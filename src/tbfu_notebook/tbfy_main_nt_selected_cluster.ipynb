{
 "cells": [
  {
   "cell_type": "code",
   "execution_count": 1,
   "outputs": [
    {
     "name": "stderr",
     "text": [
      "/usr/local/lib/python3.7/dist-packages/gensim/similarities/__init__.py:15: UserWarning: The gensim.similarities.levenshtein submodule is disabled, because the optional Levenshtein package <https://pypi.org/project/python-Levenshtein/> is unavailable. Install Levenhstein (e.g. `pip install python-Levenshtein`) to suppress this warning.\n",
      "  warnings.warn(msg)\n"
     ],
     "output_type": "stream"
    }
   ],
   "source": [
    "import rdflib\n",
    "import random\n",
    "import pandas as pd\n",
    "from sklearn.cluster import KMeans\n",
    "\n",
    "from rdflib import ConjunctiveGraph\n",
    "from knowledge_graph import *\n",
    "from rdf2vec import RDF2VecTransformer\n",
    "\n",
    "from lcs_rdf_graph_test import LCS\n",
    "\n",
    "from rdf_graph_utils import rdf_to_plot, rdf_to_text\n",
    "\n",
    "import gc, copy\n",
    "\n",
    "\n",
    "def get_resource_name(graph, resource):\n",
    "    query = \"\"\"\n",
    "               SELECT ?obj\n",
    "               WHERE { ?s <http://www.w3.org/2000/01/rdf-schema#label> ?obj.\n",
    "               \"\"\".replace(\"?s\", \"<%s>\" % resource) + \"}\"\n",
    "\n",
    "    query_res = graph.query(query)\n",
    "    label = []\n",
    "    for res in query_res:\n",
    "        label.append(str(res.obj))\n",
    "\n",
    "    return label\n",
    "            "
   ],
   "metadata": {
    "collapsed": false,
    "pycharm": {
     "name": "#%%\n",
     "is_executing": false
    }
   }
  },
  {
   "cell_type": "code",
   "execution_count": 3,
   "metadata": {
    "colab": {
     "base_uri": "https://localhost:8080/"
    },
    "executionInfo": {
     "elapsed": 1439,
     "status": "ok",
     "timestamp": 1648398125085,
     "user": {
      "displayName": "Nilus kana",
      "photoUrl": "https://lh3.googleusercontent.com/a-/AOh14Gjpd-rLESuK4DI89VUymFjqYl_5lnUL2Yi7GFhhSQ=s64",
      "userId": "08478286064215903188"
     },
     "user_tz": -120
    },
    "id": "IlShcgyi6qIF",
    "outputId": "47c39e8a-3081-47eb-f959-78a3e89c7c09",
    "pycharm": {
     "is_executing": false
    }
   },
   "outputs": [
    {
     "name": "stdout",
     "text": [
      "Loading data... OK\n"
     ],
     "output_type": "stream"
    }
   ],
   "source": [
    "print(end='Loading data... ', flush=True)\n",
    "g = ConjunctiveGraph()\n",
    "\n",
    "g.parse('../../datasets/5_RDF_TBFY/clusters/cluster_5/tbfy_cluster_5.nt', format=\"nt\")\n",
    "print('OK')\n",
    "#\n",
    "# # Extract all database resources' URI\n",
    "all_resources_file = pd.read_csv('../../datasets/5_RDF_TBFY/params/resources/tbfy_resources_cluster_5-1.txt', sep='\\t')\n",
    "all_resources = [rdflib.URIRef(x) for x in all_resources_file['resource']]\n",
    "#\n",
    "# # Define irrelevant predicates\n",
    "predicates = pd.read_csv('../../datasets/5_RDF_TBFY/params/bad_predicates.tsv', sep='\\t')\n",
    "predicates = [rdflib.URIRef(x) for x in predicates['predicate']]\n",
    "\n",
    "\n",
    "# stop_patterns = pd.read_csv('../datasets/resourcebank/stop_patterns.tsv', sep='\\t')\n",
    "# stop_patterns = [x for x in stop_patterns['stopping_patterns']]\n",
    "stop_patterns = []\n",
    "\n",
    "# preds = pd.read_csv('../datasets/resourcebank/uninformative.tsv', sep='\\t')\n",
    "# preds = [rdflib.URIRef(x) for x in preds['uninformative']]\n",
    "preds = []"
   ]
  },
  {
   "cell_type": "code",
   "execution_count": null,
   "metadata": {
    "colab": {
     "base_uri": "https://localhost:8080/"
    },
    "executionInfo": {
     "elapsed": 32,
     "status": "ok",
     "timestamp": 1648398125086,
     "user": {
      "displayName": "Nilus kana",
      "photoUrl": "https://lh3.googleusercontent.com/a-/AOh14Gjpd-rLESuK4DI89VUymFjqYl_5lnUL2Yi7GFhhSQ=s64",
      "userId": "08478286064215903188"
     },
     "user_tz": -120
    },
    "id": "ewOGRoIJ6qIG",
    "outputId": "294a5fce-de04-438a-9d29-b3406ac682cd",
    "pycharm": {
     "is_executing": false
    }
   },
   "outputs": [],
   "source": [
    "kg = rdflib_to_kg(g, label_predicates=predicates)\n",
    "\n",
    "del g\n",
    "gc.collect()\n",
    "\n",
    "#\n",
    "# # %%\n",
    "# # estraggo un'istanza di knowledge graph per ogni resource presente in quello iniziale\n",
    "\n",
    "kg_depth = 8\n",
    "\n",
    "i = 0\n",
    "j = 0\n",
    "\n",
    "kv = {}\n",
    "resources = []\n",
    "graphs = []\n",
    "\n",
    "for resource in all_resources:\n",
    "    try:\n",
    "        gi = extract_instance(kg, resource, kg_depth)\n",
    "        graphs.append(gi)\n",
    "        resources.append(resource)\n",
    "        # kv.append({'graph': gi, 'resource': resource})\n",
    "        kv[str(resource)] = i\n",
    "\n",
    "        i += 1\n",
    "    except Exception as e:\n",
    "        j += 1\n",
    "\n",
    "print('ok:' + str(i))\n",
    "print('not imported: ' + str(j))\n",
    "\n",
    "del kg\n",
    "gc.collect()"
   ]
  },
  {
   "cell_type": "code",
   "execution_count": null,
   "metadata": {
    "colab": {
     "base_uri": "https://localhost:8080/"
    },
    "executionInfo": {
     "elapsed": 27,
     "status": "ok",
     "timestamp": 1648398125087,
     "user": {
      "displayName": "Nilus kana",
      "photoUrl": "https://lh3.googleusercontent.com/a-/AOh14Gjpd-rLESuK4DI89VUymFjqYl_5lnUL2Yi7GFhhSQ=s64",
      "userId": "08478286064215903188"
     },
     "user_tz": -120
    },
    "id": "0qgY0Zsd6qIH",
    "outputId": "f0719d06-b05e-4ada-80cb-a15b4fb303f3",
    "pycharm": {
     "is_executing": false
    }
   },
   "outputs": [],
   "source": [
    "clusters = {1:[]}\n",
    "\n",
    "for res in resources:\n",
    "  clusters[1].append(kv[str(res)])\n",
    "\n",
    "for key in clusters.keys():\n",
    "    print(\"cluster \" + str(key) + \" with dimension: \" + str(len(clusters[key])))\n"
   ]
  },
  {
   "cell_type": "code",
   "execution_count": null,
   "metadata": {
    "colab": {
     "base_uri": "https://localhost:8080/"
    },
    "executionInfo": {
     "elapsed": 23,
     "status": "ok",
     "timestamp": 1648398125088,
     "user": {
      "displayName": "Nilus kana",
      "photoUrl": "https://lh3.googleusercontent.com/a-/AOh14Gjpd-rLESuK4DI89VUymFjqYl_5lnUL2Yi7GFhhSQ=s64",
      "userId": "08478286064215903188"
     },
     "user_tz": -120
    },
    "id": "U-3zizg8a7kT",
    "outputId": "f7e8471b-a4a1-470d-bdfc-6eed330193fd",
    "pycharm": {
     "is_executing": false
    }
   },
   "outputs": [],
   "source": [
    "\n",
    "for key  in clusters.keys():\n",
    "  print(\"content of cluster: \" + str(key))\n",
    "  for res in clusters[key]: \n",
    "    print(res)\n"
   ]
  },
  {
   "cell_type": "code",
   "execution_count": null,
   "metadata": {
    "colab": {
     "base_uri": "https://localhost:8080/"
    },
    "executionInfo": {
     "elapsed": 19,
     "status": "ok",
     "timestamp": 1648398125088,
     "user": {
      "displayName": "Nilus kana",
      "photoUrl": "https://lh3.googleusercontent.com/a-/AOh14Gjpd-rLESuK4DI89VUymFjqYl_5lnUL2Yi7GFhhSQ=s64",
      "userId": "08478286064215903188"
     },
     "user_tz": -120
    },
    "id": "SqvdnOjN6qIN",
    "outputId": "e0ef2266-556b-4cc0-a0b9-4cd440c428e4",
    "pycharm": {
     "is_executing": false
    }
   },
   "outputs": [],
   "source": [
    "directory = \"../../outputs/tbfy/tbfy_cluster_5-1\"\n",
    "if not os.path.exists(directory):\n",
    "    os.mkdir(directory)\n",
    "\n",
    "\n",
    "# cluster da analizzare\n",
    "k = 1\n",
    "\n",
    "# seleziono il cluster con il minor numero di elementi\n",
    "\n",
    "# k = min(clusters.keys(), key=lambda a: len(clusters[a]))\n",
    "\n",
    "# seleziono il cluster con il minor numero totale di archi\n",
    "\n",
    "# k = min(clusters.keys(), \n",
    "#        key=lambda key: sum(len(kg_to_rdflib(graphs[res], kg_depth)) for res in clusters[key]))\n",
    "\n",
    "# seleziono il cluster con l'elemento che ha il minor numero di archi\n",
    "\n",
    "# k = min(clusters.keys(), key=lambda key: min([len(kg_to_rdflib(graphs[res], kg_depth))\n",
    "#                                                 for res in clusters[key]]))\n",
    "\n",
    "\n",
    "clusters[k] = sorted(clusters[k],  key=lambda res: len(kg_to_rdflib(graphs[res], kg_depth)))\n",
    "\n",
    "# clusters[k] = [1, 2]\n",
    "\n",
    "print(resources[1], resources[2])\n",
    "\n",
    "L = len(clusters[k])\n",
    "\n",
    "print(\"esploro il cluster: \" + str(k) + \" con dimensione \" + str(L))\n",
    "\n",
    "# risorsa iniziale\n",
    "# resource_1 = random.choice(clusters[k])\n",
    "\n",
    "resource_1 = clusters[k].pop(0)\n",
    "\n",
    "graph_1 = graphs[resource_1]\n",
    "\n",
    "print(\"risorsa iniziale: \" + str(resource_1) + \" di dim -> \" + str(len(kg_to_rdflib(graph_1, kg_depth))))\n",
    "\n",
    "# clusters[k].remove(resource_1)\n",
    "explored_resoures = [resource_1]\n",
    "\n",
    "iteration = 0\n"
   ]
  },
  {
   "cell_type": "code",
   "execution_count": null,
   "metadata": {
    "colab": {
     "base_uri": "https://localhost:8080/"
    },
    "id": "fQ9rH3cN6qIP",
    "executionInfo": {
     "status": "ok",
     "timestamp": 1648398327038,
     "user_tz": -120,
     "elapsed": 201963,
     "user": {
      "displayName": "Nilus kana",
      "photoUrl": "https://lh3.googleusercontent.com/a-/AOh14Gjpd-rLESuK4DI89VUymFjqYl_5lnUL2Yi7GFhhSQ=s64",
      "userId": "08478286064215903188"
     }
    },
    "outputId": "429a5f5b-3223-41d1-a387-03ee48836413",
    "pycharm": {
     "is_executing": false
    }
   },
   "outputs": [],
   "source": [
    "# file = open(directory + \"/tmp_LCS.log\", \"a\")\n",
    "\n",
    "while clusters[k]:\n",
    "    # try:\n",
    "        file = open(directory + \"/tmp_LCS.log\", \"a\")\n",
    "        \n",
    "        # resource_2 = random.choice(clusters[k])\n",
    "   \n",
    "        resource_2 = clusters[k].pop(0)\n",
    "        graph_2 = graphs[resource_2]\n",
    "        print(\"LCS with resource: \" + str(resource_2) \n",
    "              + \" con dim: \" + str(len(kg_to_rdflib(graph_2, kg_depth))))\n",
    "        # clusters[k].remove(resource_2)\n",
    "\n",
    "        # seed\n",
    "        seed = LCS(graph_1, graph_2, depth=4, stop_patterns=stop_patterns, uninformative_triples=preds)\n",
    "        seed.find()\n",
    "              \n",
    "        explored_resoures.append(resource_2)\n",
    "        \n",
    "        print(\"dim LCS itermedio tra \" + str(explored_resoures) + \" \\n--> \" + str(len(seed)))\n",
    "        \n",
    "        del graph_1\n",
    "        del graph_2\n",
    "        gc.collect()\n",
    "        \n",
    "        graph_1 = copy.deepcopy(seed)\n",
    "\n",
    "        print(\"Iterazione: \" + str(iteration) + \", trovato LCS tra: \" + str(explored_resoures))\n",
    "        rdf_to_text(seed, directory, \"turtle\", \"tmp_LCS_\" + str(iteration))\n",
    "        rdf_to_text(seed, directory, \"nt\", \"tmp_LCS_\" + str(iteration))\n",
    "        \n",
    "        del seed\n",
    "        gc.collect()\n",
    "        \n",
    "        file.write(\"Iterazione: \" + str(iteration) +  \" risorse esplorate: \" + str(explored_resoures) + \"\\n\")\n",
    "        file.close()\n",
    "        \n",
    "        iteration += 1\n",
    "        \"\"\"\n",
    "        except Exception as e:\n",
    "            print(\"got exception: \" + str(e))\n",
    "            file.close()\n",
    "        \"\"\"\n",
    "# file.close()\n",
    "\n"
   ]
  },
  {
   "cell_type": "code",
   "execution_count": null,
   "metadata": {
    "id": "xcEmdp9h6qIP",
    "colab": {
     "base_uri": "https://localhost:8080/",
     "height": 0
    },
    "executionInfo": {
     "status": "ok",
     "timestamp": 1648398346898,
     "user_tz": -120,
     "elapsed": 20655,
     "user": {
      "displayName": "Nilus kana",
      "photoUrl": "https://lh3.googleusercontent.com/a-/AOh14Gjpd-rLESuK4DI89VUymFjqYl_5lnUL2Yi7GFhhSQ=s64",
      "userId": "08478286064215903188"
     }
    },
    "outputId": "289ae87f-c5c3-48ce-e5e0-886a79cb54c4",
    "pycharm": {
     "is_executing": false
    }
   },
   "outputs": [],
   "source": [
    "rdf_to_plot(graph_1, directory)\n",
    "print(\"LCS finale tra le risorse: \" + str(explored_resoures))"
   ]
  },
  {
   "cell_type": "code",
   "execution_count": null,
   "metadata": {
    "id": "cunnlqKP6qIQ",
    "executionInfo": {
     "status": "ok",
     "timestamp": 1648398346898,
     "user_tz": -120,
     "elapsed": 7,
     "user": {
      "displayName": "Nilus kana",
      "photoUrl": "https://lh3.googleusercontent.com/a-/AOh14Gjpd-rLESuK4DI89VUymFjqYl_5lnUL2Yi7GFhhSQ=s64",
      "userId": "08478286064215903188"
     }
    },
    "pycharm": {
     "is_executing": false
    }
   },
   "outputs": [],
   "source": [
    "# SALVATAGGIO DEL GRAFO\n",
    "\n",
    "rdf_to_text(graph_1, directory, 'turtle', 'final_LCS')\n",
    "rdf_to_text(graph_1, directory, 'nt', 'final_LCS')\n",
    "file =  open(directory + \"/final_LCS_resources.log\", \"a\")\n",
    "file.write(str(explored_resoures))\n",
    "file.close()"
   ]
  }
 ],
 "metadata": {
  "colab": {
   "name": "tbfy_main_nt_selected_cluster.ipynb",
   "provenance": []
  },
  "kernelspec": {
   "display_name": "PyCharm (tema1)",
   "language": "python",
   "name": "pycharm-aebb6457"
  },
  "language_info": {
   "codemirror_mode": {
    "name": "ipython",
    "version": 2
   },
   "file_extension": ".py",
   "mimetype": "text/x-python",
   "name": "python",
   "nbconvert_exporter": "python",
   "pygments_lexer": "ipython2",
   "version": "2.7.6"
  },
  "pycharm": {
   "stem_cell": {
    "cell_type": "raw",
    "source": [],
    "metadata": {
     "collapsed": false
    }
   }
  }
 },
 "nbformat": 4,
 "nbformat_minor": 0
}